{
  "nbformat": 4,
  "nbformat_minor": 0,
  "metadata": {
    "colab": {
      "provenance": []
    },
    "kernelspec": {
      "name": "python3",
      "display_name": "Python 3"
    },
    "language_info": {
      "name": "python"
    }
  },
  "cells": [
    {
      "cell_type": "code",
      "source": [
        "from google.colab import drive\n",
        "drive.mount('/content/drive')"
      ],
      "metadata": {
        "colab": {
          "base_uri": "https://localhost:8080/"
        },
        "id": "KN12aRLtfoAM",
        "outputId": "a21ab304-978c-40de-c19e-e355d8ccf623"
      },
      "execution_count": 1,
      "outputs": [
        {
          "output_type": "stream",
          "name": "stdout",
          "text": [
            "Mounted at /content/drive\n"
          ]
        }
      ]
    },
    {
      "cell_type": "code",
      "execution_count": 4,
      "metadata": {
        "id": "vJXmMN61dTQc"
      },
      "outputs": [],
      "source": [
        "!mkdir DATA\n",
        "!unzip -qq \"/content/drive/MyDrive/open.zip\" -d /content/DATA"
      ]
    },
    {
      "cell_type": "code",
      "source": [
        "!pip install pandas"
      ],
      "metadata": {
        "id": "5X0rxd8_k6WY"
      },
      "execution_count": 10,
      "outputs": []
    },
    {
      "cell_type": "code",
      "source": [
        "from PIL import Image\n",
        "image_path = \"DATA/train/TRAIN_00000.jpg\"\n",
        "image = Image.open(image_path)\n",
        "width, height =image.size\n",
        "print(width,height)  #512,512 pixel 사이즈"
      ],
      "metadata": {
        "id": "hZ0BbNmYl4h6"
      },
      "execution_count": 11,
      "outputs": []
    }
  ]
}